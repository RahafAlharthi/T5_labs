{
  "cells": [
    {
      "cell_type": "markdown",
      "metadata": {
        "id": "view-in-github",
        "colab_type": "text"
      },
      "source": [
        "<a href=\"https://colab.research.google.com/github/RahafAlharthi/T5_labs/blob/main/OCR_Using_CNN.ipynb\" target=\"_parent\"><img src=\"https://colab.research.google.com/assets/colab-badge.svg\" alt=\"Open In Colab\"/></a>"
      ]
    },
    {
      "cell_type": "markdown",
      "id": "f029bf03",
      "metadata": {
        "id": "f029bf03"
      },
      "source": [
        "# OCR Application Using CNN on MNIST Dataset\n",
        "This notebook demonstrates how to apply Convolutional Neural Networks (CNN) for Optical Character Recognition (OCR). We will be working with the MNIST dataset, which contains images of handwritten digits. The goal is to build an OCR system that can accurately classify these digits using deep learning with CNN.\n",
        "We will:\n",
        "1. Load and preprocess the dataset\n",
        "2. Build and train a CNN model\n",
        "3. Make predictions on new images"
      ]
    },
    {
      "cell_type": "markdown",
      "id": "45192701",
      "metadata": {
        "id": "45192701"
      },
      "source": [
        "## Step 1: Import Libraries\n",
        "Let's start by importing the necessary libraries for building and training our model."
      ]
    },
    {
      "cell_type": "code",
      "execution_count": 1,
      "id": "d4d8100c",
      "metadata": {
        "id": "d4d8100c"
      },
      "outputs": [],
      "source": [
        "import keras\n",
        "from keras.datasets import mnist\n",
        "from keras.models import Sequential\n",
        "from keras.layers import Dense, Dropout, Flatten\n",
        "from keras.layers import Conv2D, MaxPooling2D\n",
        "import cv2\n",
        "import random\n",
        "import numpy as np\n",
        "import matplotlib.pyplot as plt"
      ]
    },
    {
      "cell_type": "markdown",
      "id": "fbfc2a04",
      "metadata": {
        "id": "fbfc2a04"
      },
      "source": [
        "## Step 2: Load and Preprocess the MNIST Dataset\n",
        "We will now load the MNIST dataset, reshape it to fit the input of our CNN model, and normalize the data to be in the range [0, 1]."
      ]
    },
    {
      "cell_type": "code",
      "execution_count": 2,
      "id": "a283f1dc",
      "metadata": {
        "id": "a283f1dc",
        "outputId": "e5e4a0aa-e054-4d98-8b70-5f34414a80ad",
        "colab": {
          "base_uri": "https://localhost:8080/"
        }
      },
      "outputs": [
        {
          "output_type": "stream",
          "name": "stdout",
          "text": [
            "Downloading data from https://storage.googleapis.com/tensorflow/tf-keras-datasets/mnist.npz\n",
            "\u001b[1m11490434/11490434\u001b[0m \u001b[32m━━━━━━━━━━━━━━━━━━━━\u001b[0m\u001b[37m\u001b[0m \u001b[1m2s\u001b[0m 0us/step\n"
          ]
        }
      ],
      "source": [
        "(x_train, y_train), (x_test, y_test) = mnist.load_data()\n",
        "\n",
        "# Reshaping and normalizing\n",
        "x_train = x_train.reshape(x_train.shape[0], 28, 28, 1)\n",
        "x_test = x_test.reshape(x_test.shape[0], 28, 28, 1)\n",
        "input_shape = (28, 28, 1)\n",
        "\n",
        "x_train = x_train.astype('float32')\n",
        "x_test = x_test.astype('float32')\n",
        "x_train /= 255\n",
        "x_test /= 255\n",
        "\n",
        "# One-hot encode the labels\n",
        "y_train = keras.utils.to_categorical(y_train, 10)\n",
        "y_test = keras.utils.to_categorical(y_test, 10)"
      ]
    },
    {
      "cell_type": "markdown",
      "id": "4136658c",
      "metadata": {
        "id": "4136658c"
      },
      "source": [
        "## Step 3: Build the CNN Model\n",
        "We'll define a simple CNN model with the following layers:\n",
        "- Convolutional layers for feature extraction\n",
        "- MaxPooling for downsampling\n",
        "- Dropout layers to prevent overfitting\n",
        "- Dense layers for final classification"
      ]
    },
    {
      "cell_type": "code",
      "execution_count": 3,
      "id": "76643ee9",
      "metadata": {
        "id": "76643ee9",
        "outputId": "2c70ef04-3204-4e0b-9576-636a2aa442d8",
        "colab": {
          "base_uri": "https://localhost:8080/"
        }
      },
      "outputs": [
        {
          "output_type": "stream",
          "name": "stderr",
          "text": [
            "/usr/local/lib/python3.10/dist-packages/keras/src/layers/convolutional/base_conv.py:107: UserWarning: Do not pass an `input_shape`/`input_dim` argument to a layer. When using Sequential models, prefer using an `Input(shape)` object as the first layer in the model instead.\n",
            "  super().__init__(activity_regularizer=activity_regularizer, **kwargs)\n"
          ]
        }
      ],
      "source": [
        "model = Sequential()\n",
        "model.add(Conv2D(32, kernel_size=(3, 3), activation='relu', input_shape=input_shape))\n",
        "model.add(Conv2D(64, (3, 3), activation='relu'))\n",
        "model.add(MaxPooling2D(pool_size=(2, 2)))\n",
        "model.add(Dropout(0.25))\n",
        "model.add(Flatten())\n",
        "model.add(Dense(128, activation='relu'))\n",
        "model.add(Dropout(0.5))\n",
        "model.add(Dense(10, activation='softmax'))"
      ]
    },
    {
      "cell_type": "markdown",
      "id": "842ca22a",
      "metadata": {
        "id": "842ca22a"
      },
      "source": [
        "## Step 4: Compile and Train the Model\n",
        "Next, we'll compile our model using categorical cross-entropy as the loss function, Adadelta as the optimizer, and accuracy as the metric.\n",
        "After compiling, we'll train the model on the training dataset."
      ]
    },
    {
      "cell_type": "code",
      "execution_count": 4,
      "id": "a9c21872",
      "metadata": {
        "id": "a9c21872",
        "outputId": "6b49dd0b-fbae-42b5-fb9a-e08eb9d9659e",
        "colab": {
          "base_uri": "https://localhost:8080/"
        }
      },
      "outputs": [
        {
          "output_type": "stream",
          "name": "stdout",
          "text": [
            "Epoch 1/12\n",
            "\u001b[1m469/469\u001b[0m \u001b[32m━━━━━━━━━━━━━━━━━━━━\u001b[0m\u001b[37m\u001b[0m \u001b[1m19s\u001b[0m 15ms/step - accuracy: 0.1024 - loss: 2.3011 - val_accuracy: 0.2516 - val_loss: 2.2413\n",
            "Epoch 2/12\n",
            "\u001b[1m469/469\u001b[0m \u001b[32m━━━━━━━━━━━━━━━━━━━━\u001b[0m\u001b[37m\u001b[0m \u001b[1m9s\u001b[0m 7ms/step - accuracy: 0.2114 - loss: 2.2370 - val_accuracy: 0.4704 - val_loss: 2.1621\n",
            "Epoch 3/12\n",
            "\u001b[1m469/469\u001b[0m \u001b[32m━━━━━━━━━━━━━━━━━━━━\u001b[0m\u001b[37m\u001b[0m \u001b[1m8s\u001b[0m 12ms/step - accuracy: 0.3168 - loss: 2.1600 - val_accuracy: 0.5781 - val_loss: 2.0605\n",
            "Epoch 4/12\n",
            "\u001b[1m469/469\u001b[0m \u001b[32m━━━━━━━━━━━━━━━━━━━━\u001b[0m\u001b[37m\u001b[0m \u001b[1m8s\u001b[0m 7ms/step - accuracy: 0.4045 - loss: 2.0632 - val_accuracy: 0.6344 - val_loss: 1.9285\n",
            "Epoch 5/12\n",
            "\u001b[1m469/469\u001b[0m \u001b[32m━━━━━━━━━━━━━━━━━━━━\u001b[0m\u001b[37m\u001b[0m \u001b[1m5s\u001b[0m 7ms/step - accuracy: 0.4781 - loss: 1.9374 - val_accuracy: 0.6841 - val_loss: 1.7625\n",
            "Epoch 6/12\n",
            "\u001b[1m469/469\u001b[0m \u001b[32m━━━━━━━━━━━━━━━━━━━━\u001b[0m\u001b[37m\u001b[0m \u001b[1m5s\u001b[0m 7ms/step - accuracy: 0.5381 - loss: 1.7812 - val_accuracy: 0.7189 - val_loss: 1.5744\n",
            "Epoch 7/12\n",
            "\u001b[1m469/469\u001b[0m \u001b[32m━━━━━━━━━━━━━━━━━━━━\u001b[0m\u001b[37m\u001b[0m \u001b[1m5s\u001b[0m 7ms/step - accuracy: 0.5791 - loss: 1.6237 - val_accuracy: 0.7455 - val_loss: 1.3824\n",
            "Epoch 8/12\n",
            "\u001b[1m469/469\u001b[0m \u001b[32m━━━━━━━━━━━━━━━━━━━━\u001b[0m\u001b[37m\u001b[0m \u001b[1m3s\u001b[0m 7ms/step - accuracy: 0.6107 - loss: 1.4613 - val_accuracy: 0.7679 - val_loss: 1.2037\n",
            "Epoch 9/12\n",
            "\u001b[1m469/469\u001b[0m \u001b[32m━━━━━━━━━━━━━━━━━━━━\u001b[0m\u001b[37m\u001b[0m \u001b[1m3s\u001b[0m 7ms/step - accuracy: 0.6356 - loss: 1.3239 - val_accuracy: 0.7858 - val_loss: 1.0540\n",
            "Epoch 10/12\n",
            "\u001b[1m469/469\u001b[0m \u001b[32m━━━━━━━━━━━━━━━━━━━━\u001b[0m\u001b[37m\u001b[0m \u001b[1m5s\u001b[0m 7ms/step - accuracy: 0.6599 - loss: 1.2066 - val_accuracy: 0.7985 - val_loss: 0.9334\n",
            "Epoch 11/12\n",
            "\u001b[1m469/469\u001b[0m \u001b[32m━━━━━━━━━━━━━━━━━━━━\u001b[0m\u001b[37m\u001b[0m \u001b[1m3s\u001b[0m 7ms/step - accuracy: 0.6760 - loss: 1.1134 - val_accuracy: 0.8106 - val_loss: 0.8396\n",
            "Epoch 12/12\n",
            "\u001b[1m469/469\u001b[0m \u001b[32m━━━━━━━━━━━━━━━━━━━━\u001b[0m\u001b[37m\u001b[0m \u001b[1m5s\u001b[0m 7ms/step - accuracy: 0.6912 - loss: 1.0366 - val_accuracy: 0.8230 - val_loss: 0.7655\n"
          ]
        },
        {
          "output_type": "execute_result",
          "data": {
            "text/plain": [
              "<keras.src.callbacks.history.History at 0x79c30f789330>"
            ]
          },
          "metadata": {},
          "execution_count": 4
        }
      ],
      "source": [
        "model.compile(loss=keras.losses.categorical_crossentropy,\n",
        "              optimizer=keras.optimizers.Adadelta(),\n",
        "              metrics=['accuracy'])\n",
        "\n",
        "model.fit(x_train, y_train,\n",
        "          batch_size=128,\n",
        "          epochs=12,\n",
        "          verbose=1,\n",
        "          validation_data=(x_test, y_test))"
      ]
    },
    {
      "cell_type": "markdown",
      "id": "294ccec8",
      "metadata": {
        "id": "294ccec8"
      },
      "source": [
        "## Step 5: Visualizing Random Predictions from the Test Set\n",
        "Finally, let's visualize a random image from the test set along with the model's prediction."
      ]
    },
    {
      "cell_type": "code",
      "execution_count": 6,
      "id": "a4a9443c",
      "metadata": {
        "id": "a4a9443c",
        "outputId": "661ca472-cf4e-47fa-a2b6-14a3d09f35d6",
        "colab": {
          "base_uri": "https://localhost:8080/",
          "height": 446
        }
      },
      "outputs": [
        {
          "output_type": "stream",
          "name": "stdout",
          "text": [
            "\u001b[1m1/1\u001b[0m \u001b[32m━━━━━━━━━━━━━━━━━━━━\u001b[0m\u001b[37m\u001b[0m \u001b[1m0s\u001b[0m 17ms/step\n"
          ]
        },
        {
          "output_type": "display_data",
          "data": {
            "text/plain": [
              "<Figure size 640x480 with 1 Axes>"
            ],
            "image/png": "[encoded data removed]"
          },
          "metadata": {}
        }
      ],
      "source": [
        "\n",
        "# Select a random image\n",
        "random_idx = random.randint(0, x_test.shape[0] - 1)\n",
        "random_image = x_test[random_idx]\n",
        "\n",
        "# Get the model's prediction\n",
        "predicted_label = model.predict(random_image.reshape(1, 28, 28, 1)).argmax()\n",
        "\n",
        "# Plot the image\n",
        "plt.imshow(random_image.squeeze(), cmap='gray')\n",
        "plt.title(f'Model Prediction: {predicted_label}')\n",
        "plt.axis('off')\n",
        "plt.show()"
      ]
    }
  ],
  "metadata": {
    "colab": {
      "provenance": [],
      "gpuType": "T4",
      "include_colab_link": true
    },
    "accelerator": "GPU",
    "language_info": {
      "name": "python"
    },
    "kernelspec": {
      "name": "python3",
      "display_name": "Python 3"
    }
  },
  "nbformat": 4,
  "nbformat_minor": 5
}